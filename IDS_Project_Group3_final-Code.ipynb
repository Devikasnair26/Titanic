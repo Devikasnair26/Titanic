{
 "cells": [
  {
   "cell_type": "code",
   "execution_count": 1,
   "id": "ab40516a",
   "metadata": {},
   "outputs": [],
   "source": [
    "#1. IMPORTING ALL IMPORTANT LIBRARIES\n",
    "import pandas as pd\n",
    "import numpy as np \n",
    "import matplotlib.pyplot as plt\n",
    "%matplotlib inline\n",
    "import seaborn as sns\n",
    "from sklearn.model_selection import train_test_split\n",
    "from sklearn.metrics import confusion_matrix\n",
    "from sklearn.metrics import classification_report\n",
    "from sklearn.metrics import accuracy_score\n",
    "from sklearn.linear_model import LogisticRegression"
   ]
  },
  {
   "cell_type": "code",
   "execution_count": 2,
   "id": "7885b766",
   "metadata": {},
   "outputs": [],
   "source": [
    "#2. READING THE CSV FILE INTO A PANDAS DATAFRAME\n",
    "titanic_train = pd.read_csv('titanic_train.csv')"
   ]
  },
  {
   "cell_type": "code",
   "execution_count": 3,
   "id": "d4c13e63",
   "metadata": {
    "scrolled": true
   },
   "outputs": [
    {
     "data": {
      "text/html": [
       "<div>\n",
       "<style scoped>\n",
       "    .dataframe tbody tr th:only-of-type {\n",
       "        vertical-align: middle;\n",
       "    }\n",
       "\n",
       "    .dataframe tbody tr th {\n",
       "        vertical-align: top;\n",
       "    }\n",
       "\n",
       "    .dataframe thead th {\n",
       "        text-align: right;\n",
       "    }\n",
       "</style>\n",
       "<table border=\"1\" class=\"dataframe\">\n",
       "  <thead>\n",
       "    <tr style=\"text-align: right;\">\n",
       "      <th></th>\n",
       "      <th>PassengerId</th>\n",
       "      <th>Survived</th>\n",
       "      <th>Pclass</th>\n",
       "      <th>Name</th>\n",
       "      <th>Sex</th>\n",
       "      <th>Age</th>\n",
       "      <th>SibSp</th>\n",
       "      <th>Parch</th>\n",
       "      <th>Ticket</th>\n",
       "      <th>Fare</th>\n",
       "      <th>Cabin</th>\n",
       "      <th>Embarked</th>\n",
       "    </tr>\n",
       "  </thead>\n",
       "  <tbody>\n",
       "    <tr>\n",
       "      <th>0</th>\n",
       "      <td>1</td>\n",
       "      <td>0</td>\n",
       "      <td>3</td>\n",
       "      <td>Braund, Mr. Owen Harris</td>\n",
       "      <td>male</td>\n",
       "      <td>22.0</td>\n",
       "      <td>1</td>\n",
       "      <td>0</td>\n",
       "      <td>A/5 21171</td>\n",
       "      <td>7.2500</td>\n",
       "      <td>NaN</td>\n",
       "      <td>S</td>\n",
       "    </tr>\n",
       "    <tr>\n",
       "      <th>1</th>\n",
       "      <td>2</td>\n",
       "      <td>1</td>\n",
       "      <td>1</td>\n",
       "      <td>Cumings, Mrs. John Bradley (Florence Briggs Th...</td>\n",
       "      <td>female</td>\n",
       "      <td>38.0</td>\n",
       "      <td>1</td>\n",
       "      <td>0</td>\n",
       "      <td>PC 17599</td>\n",
       "      <td>71.2833</td>\n",
       "      <td>C85</td>\n",
       "      <td>C</td>\n",
       "    </tr>\n",
       "    <tr>\n",
       "      <th>2</th>\n",
       "      <td>3</td>\n",
       "      <td>1</td>\n",
       "      <td>3</td>\n",
       "      <td>Heikkinen, Miss. Laina</td>\n",
       "      <td>female</td>\n",
       "      <td>26.0</td>\n",
       "      <td>0</td>\n",
       "      <td>0</td>\n",
       "      <td>STON/O2. 3101282</td>\n",
       "      <td>7.9250</td>\n",
       "      <td>NaN</td>\n",
       "      <td>S</td>\n",
       "    </tr>\n",
       "    <tr>\n",
       "      <th>3</th>\n",
       "      <td>4</td>\n",
       "      <td>1</td>\n",
       "      <td>1</td>\n",
       "      <td>Futrelle, Mrs. Jacques Heath (Lily May Peel)</td>\n",
       "      <td>female</td>\n",
       "      <td>35.0</td>\n",
       "      <td>1</td>\n",
       "      <td>0</td>\n",
       "      <td>113803</td>\n",
       "      <td>53.1000</td>\n",
       "      <td>C123</td>\n",
       "      <td>S</td>\n",
       "    </tr>\n",
       "    <tr>\n",
       "      <th>4</th>\n",
       "      <td>5</td>\n",
       "      <td>0</td>\n",
       "      <td>3</td>\n",
       "      <td>Allen, Mr. William Henry</td>\n",
       "      <td>male</td>\n",
       "      <td>35.0</td>\n",
       "      <td>0</td>\n",
       "      <td>0</td>\n",
       "      <td>373450</td>\n",
       "      <td>8.0500</td>\n",
       "      <td>NaN</td>\n",
       "      <td>S</td>\n",
       "    </tr>\n",
       "  </tbody>\n",
       "</table>\n",
       "</div>"
      ],
      "text/plain": [
       "   PassengerId  Survived  Pclass  \\\n",
       "0            1         0       3   \n",
       "1            2         1       1   \n",
       "2            3         1       3   \n",
       "3            4         1       1   \n",
       "4            5         0       3   \n",
       "\n",
       "                                                Name     Sex   Age  SibSp  \\\n",
       "0                            Braund, Mr. Owen Harris    male  22.0      1   \n",
       "1  Cumings, Mrs. John Bradley (Florence Briggs Th...  female  38.0      1   \n",
       "2                             Heikkinen, Miss. Laina  female  26.0      0   \n",
       "3       Futrelle, Mrs. Jacques Heath (Lily May Peel)  female  35.0      1   \n",
       "4                           Allen, Mr. William Henry    male  35.0      0   \n",
       "\n",
       "   Parch            Ticket     Fare Cabin Embarked  \n",
       "0      0         A/5 21171   7.2500   NaN        S  \n",
       "1      0          PC 17599  71.2833   C85        C  \n",
       "2      0  STON/O2. 3101282   7.9250   NaN        S  \n",
       "3      0            113803  53.1000  C123        S  \n",
       "4      0            373450   8.0500   NaN        S  "
      ]
     },
     "execution_count": 3,
     "metadata": {},
     "output_type": "execute_result"
    }
   ],
   "source": [
    "#3. VIEWING THE TOP FEW ROWS OF THE DATAFRAME\n",
    "titanic_train.head()"
   ]
  },
  {
   "cell_type": "code",
   "execution_count": 4,
   "id": "7ff0de25",
   "metadata": {},
   "outputs": [
    {
     "name": "stdout",
     "output_type": "stream",
     "text": [
      "<class 'pandas.core.frame.DataFrame'>\n",
      "RangeIndex: 891 entries, 0 to 890\n",
      "Data columns (total 12 columns):\n",
      " #   Column       Non-Null Count  Dtype  \n",
      "---  ------       --------------  -----  \n",
      " 0   PassengerId  891 non-null    int64  \n",
      " 1   Survived     891 non-null    int64  \n",
      " 2   Pclass       891 non-null    int64  \n",
      " 3   Name         891 non-null    object \n",
      " 4   Sex          891 non-null    object \n",
      " 5   Age          714 non-null    float64\n",
      " 6   SibSp        891 non-null    int64  \n",
      " 7   Parch        891 non-null    int64  \n",
      " 8   Ticket       891 non-null    object \n",
      " 9   Fare         891 non-null    float64\n",
      " 10  Cabin        204 non-null    object \n",
      " 11  Embarked     889 non-null    object \n",
      "dtypes: float64(2), int64(5), object(5)\n",
      "memory usage: 83.7+ KB\n"
     ]
    }
   ],
   "source": [
    "#Summary of the training data\n",
    "titanic_train.info()"
   ]
  },
  {
   "cell_type": "code",
   "execution_count": 5,
   "id": "d7f041ce",
   "metadata": {},
   "outputs": [],
   "source": [
    "#4. EDA TO VISUALIZE THE DATA"
   ]
  },
  {
   "cell_type": "code",
   "execution_count": 6,
   "id": "4e7ab5df",
   "metadata": {},
   "outputs": [
    {
     "data": {
      "text/plain": [
       "Text(0.5, 1.0, 'Survived (Y or N)')"
      ]
     },
     "execution_count": 6,
     "metadata": {},
     "output_type": "execute_result"
    },
    {
     "data": {
      "image/png": "[encoded data removed]",
      "text/plain": [
       "<Figure size 432x288 with 1 Axes>"
      ]
     },
     "metadata": {},
     "output_type": "display_data"
    }
   ],
   "source": [
    "#4.1.1 EDA - Survival Rate Bar Graph\n",
    "sns.set_style('darkgrid')\n",
    "sns.countplot(x='Survived',data=titanic_train,palette='dark').set_title('Survived (Y or N)')"
   ]
  },
  {
   "cell_type": "code",
   "execution_count": 7,
   "id": "9f28ab79",
   "metadata": {},
   "outputs": [
    {
     "name": "stdout",
     "output_type": "stream",
     "text": [
      "The following pie charts show the survival rates of passengers by their travelling class\n"
     ]
    },
    {
     "data": {
      "image/png": "[encoded data removed]",
      "text/plain": [
       "<Figure size 1080x1080 with 3 Axes>"
      ]
     },
     "metadata": {},
     "output_type": "display_data"
    }
   ],
   "source": [
    "#4.1.2 EDA - Survival Rate Pie Chart\n",
    "print(\"The following pie charts show the survival rates of passengers by their travelling class\")\n",
    "labels = [\"not survived\", \"survived\"]\n",
    "plt.figure(figsize=(15,15))\n",
    "plt.subplot(3,1,1)\n",
    "plt.title(\"Passengers travelling in the 1st Class: \")\n",
    "plt.pie(titanic_train[titanic_train[\"Pclass\"] == 1].groupby([\"Survived\"]).size(), labels=labels, autopct='%1.1f%%')\n",
    "plt.subplot(3,1,2)\n",
    "plt.title(\"Passengers travelling in the 2nd Class: \")\n",
    "plt.pie(titanic_train[titanic_train[\"Pclass\"] == 2].groupby([\"Survived\"]).size(), labels=labels, autopct='%1.1f%%')\n",
    "plt.subplot(3,1,3)\n",
    "plt.title(\"Passengers travelling in the 3rd Class: \")\n",
    "plt.pie(titanic_train[titanic_train[\"Pclass\"] == 3].groupby([\"Survived\"]).size(), labels=labels, autopct='%1.1f%%')\n",
    "plt.show()"
   ]
  },
  {
   "cell_type": "code",
   "execution_count": 8,
   "id": "55239939",
   "metadata": {},
   "outputs": [
    {
     "data": {
      "text/plain": [
       "Text(0.5, 1.0, 'Survival by Sex')"
      ]
     },
     "execution_count": 8,
     "metadata": {},
     "output_type": "execute_result"
    },
    {
     "data": {
      "image/png": "[encoded data removed]",
      "text/plain": [
       "<Figure size 432x288 with 1 Axes>"
      ]
     },
     "metadata": {},
     "output_type": "display_data"
    }
   ],
   "source": [
    "#4.2 EDA - Survival Rate by Gender\n",
    "sns.set_style('darkgrid')\n",
    "sns.countplot(x='Survived',hue='Sex',data=titanic_train,palette='dark').set_title('Survival by Sex')"
   ]
  },
  {
   "cell_type": "code",
   "execution_count": 9,
   "id": "c6019b32",
   "metadata": {},
   "outputs": [
    {
     "data": {
      "text/plain": [
       "Text(0.5, 1.0, 'Survival by PClass')"
      ]
     },
     "execution_count": 9,
     "metadata": {},
     "output_type": "execute_result"
    },
    {
     "data": {
      "image/png": "[encoded data removed]",
      "text/plain": [
       "<Figure size 432x288 with 1 Axes>"
      ]
     },
     "metadata": {},
     "output_type": "display_data"
    }
   ],
   "source": [
    "#4.3 EDA - Survival Rate by Passenger Class\n",
    "sns.set_style('darkgrid')\n",
    "sns.countplot(x='Survived',hue='Pclass',data=titanic_train,palette='dark').set_title('Survival by PClass')"
   ]
  },
  {
   "cell_type": "code",
   "execution_count": 10,
   "id": "48c72e70",
   "metadata": {},
   "outputs": [
    {
     "data": {
      "image/png": "[encoded data removed]",
      "text/plain": [
       "<Figure size 432x288 with 1 Axes>"
      ]
     },
     "metadata": {},
     "output_type": "display_data"
    }
   ],
   "source": [
    "#4.4 EDA - Ages of Passengers\n",
    "plt.hist(titanic_train['Age'],color=\"gold\",edgecolor='k')\n",
    "plt.title(\" Distribution of Age\")\n",
    "plt.xlabel(\"Age\")\n",
    "plt.show()"
   ]
  },
  {
   "cell_type": "code",
   "execution_count": 11,
   "id": "37016463",
   "metadata": {},
   "outputs": [
    {
     "data": {
      "text/plain": [
       "Text(0.5, 1.0, 'Spouse / Sibling Count')"
      ]
     },
     "execution_count": 11,
     "metadata": {},
     "output_type": "execute_result"
    },
    {
     "data": {
      "image/png": "[encoded data removed]",
      "text/plain": [
       "<Figure size 432x288 with 1 Axes>"
      ]
     },
     "metadata": {},
     "output_type": "display_data"
    }
   ],
   "source": [
    "#4.5 EDA - Count of Siblings / Spouse\n",
    "sns.set_style('darkgrid')\n",
    "sns.countplot(x='SibSp',data=titanic_train,palette='dark').set_title('Spouse / Sibling Count')"
   ]
  },
  {
   "cell_type": "code",
   "execution_count": 12,
   "id": "604fcee2",
   "metadata": {},
   "outputs": [
    {
     "data": {
      "text/plain": [
       "<AxesSubplot:>"
      ]
     },
     "execution_count": 12,
     "metadata": {},
     "output_type": "execute_result"
    },
    {
     "data": {
      "image/png": "[encoded data removed]",
      "text/plain": [
       "<Figure size 432x288 with 1 Axes>"
      ]
     },
     "metadata": {},
     "output_type": "display_data"
    }
   ],
   "source": [
    "#5. CHECKING FOR MISSING DATA (AGE/CABIN)\n",
    "sns.set_style('darkgrid')\n",
    "sns.heatmap(titanic_train.isnull(),yticklabels=False,cbar=False,cmap='Blues')"
   ]
  },
  {
   "cell_type": "code",
   "execution_count": 13,
   "id": "e437dc3b",
   "metadata": {},
   "outputs": [],
   "source": [
    "#From the output, we can see that the columns Age and Cabin have a lot of null values, and column Embarked has very few Null values (2 null values exactly)"
   ]
  },
  {
   "cell_type": "code",
   "execution_count": 14,
   "id": "2b0469ea",
   "metadata": {},
   "outputs": [],
   "source": [
    "#6. DATA CLEANING - IMPUTE THE MISSING VALUES IN AGE BASED PCLASS (BY TAKING AVG IN PCLASS)\n",
    "titanic_train['Age']=titanic_train['Age'].groupby([titanic_train['Pclass']]).apply(lambda x: x.fillna(x.mean()))"
   ]
  },
  {
   "cell_type": "code",
   "execution_count": 15,
   "id": "1a73ba63",
   "metadata": {},
   "outputs": [],
   "source": [
    "#7. DATA CLEANING - DROPPING THE CABIN COLUMN\n",
    "\n",
    "titanic_train.drop('Cabin',axis=1,inplace=True)\n",
    "\n",
    "#to check the DataFrame w/o the column Cabin,\n",
    "#titanic_train.head()"
   ]
  },
  {
   "cell_type": "code",
   "execution_count": 16,
   "id": "661c4bec",
   "metadata": {},
   "outputs": [],
   "source": [
    "#8. DATA CLEANING - DROPPING THE ROW IN EMBARKED COLUMN THAT IS NaN"
   ]
  },
  {
   "cell_type": "code",
   "execution_count": 17,
   "id": "6f01410a",
   "metadata": {},
   "outputs": [
    {
     "data": {
      "text/plain": [
       "False    889\n",
       "True       2\n",
       "Name: Embarked, dtype: int64"
      ]
     },
     "execution_count": 17,
     "metadata": {},
     "output_type": "execute_result"
    }
   ],
   "source": [
    "#8.1. Checking Null values in the 'Embarked' column\n",
    "titanic_train['Embarked'].isnull().value_counts()"
   ]
  },
  {
   "cell_type": "code",
   "execution_count": 18,
   "id": "98abfa7a",
   "metadata": {},
   "outputs": [],
   "source": [
    "#We have 2 null values based on the output\n",
    "#8.2. Dropping the NaN values in Embarked\n",
    "titanic_train.dropna(axis=0,subset=['Embarked'],inplace=True)\n",
    "\n",
    "#to re-check the count of null values, you can run titanic_train['Embarked'].isnull().value_counts()"
   ]
  },
  {
   "cell_type": "code",
   "execution_count": 19,
   "id": "674cfb10",
   "metadata": {},
   "outputs": [
    {
     "data": {
      "text/html": [
       "<div>\n",
       "<style scoped>\n",
       "    .dataframe tbody tr th:only-of-type {\n",
       "        vertical-align: middle;\n",
       "    }\n",
       "\n",
       "    .dataframe tbody tr th {\n",
       "        vertical-align: top;\n",
       "    }\n",
       "\n",
       "    .dataframe thead th {\n",
       "        text-align: right;\n",
       "    }\n",
       "</style>\n",
       "<table border=\"1\" class=\"dataframe\">\n",
       "  <thead>\n",
       "    <tr style=\"text-align: right;\">\n",
       "      <th></th>\n",
       "      <th>PassengerId</th>\n",
       "      <th>Survived</th>\n",
       "      <th>Pclass</th>\n",
       "      <th>Age</th>\n",
       "      <th>SibSp</th>\n",
       "      <th>Parch</th>\n",
       "      <th>Fare</th>\n",
       "      <th>male</th>\n",
       "      <th>Q</th>\n",
       "      <th>S</th>\n",
       "    </tr>\n",
       "  </thead>\n",
       "  <tbody>\n",
       "    <tr>\n",
       "      <th>0</th>\n",
       "      <td>1</td>\n",
       "      <td>0</td>\n",
       "      <td>3</td>\n",
       "      <td>22.00000</td>\n",
       "      <td>1</td>\n",
       "      <td>0</td>\n",
       "      <td>7.2500</td>\n",
       "      <td>1</td>\n",
       "      <td>0</td>\n",
       "      <td>1</td>\n",
       "    </tr>\n",
       "    <tr>\n",
       "      <th>1</th>\n",
       "      <td>2</td>\n",
       "      <td>1</td>\n",
       "      <td>1</td>\n",
       "      <td>38.00000</td>\n",
       "      <td>1</td>\n",
       "      <td>0</td>\n",
       "      <td>71.2833</td>\n",
       "      <td>0</td>\n",
       "      <td>0</td>\n",
       "      <td>0</td>\n",
       "    </tr>\n",
       "    <tr>\n",
       "      <th>2</th>\n",
       "      <td>3</td>\n",
       "      <td>1</td>\n",
       "      <td>3</td>\n",
       "      <td>26.00000</td>\n",
       "      <td>0</td>\n",
       "      <td>0</td>\n",
       "      <td>7.9250</td>\n",
       "      <td>0</td>\n",
       "      <td>0</td>\n",
       "      <td>1</td>\n",
       "    </tr>\n",
       "    <tr>\n",
       "      <th>3</th>\n",
       "      <td>4</td>\n",
       "      <td>1</td>\n",
       "      <td>1</td>\n",
       "      <td>35.00000</td>\n",
       "      <td>1</td>\n",
       "      <td>0</td>\n",
       "      <td>53.1000</td>\n",
       "      <td>0</td>\n",
       "      <td>0</td>\n",
       "      <td>1</td>\n",
       "    </tr>\n",
       "    <tr>\n",
       "      <th>4</th>\n",
       "      <td>5</td>\n",
       "      <td>0</td>\n",
       "      <td>3</td>\n",
       "      <td>35.00000</td>\n",
       "      <td>0</td>\n",
       "      <td>0</td>\n",
       "      <td>8.0500</td>\n",
       "      <td>1</td>\n",
       "      <td>0</td>\n",
       "      <td>1</td>\n",
       "    </tr>\n",
       "    <tr>\n",
       "      <th>...</th>\n",
       "      <td>...</td>\n",
       "      <td>...</td>\n",
       "      <td>...</td>\n",
       "      <td>...</td>\n",
       "      <td>...</td>\n",
       "      <td>...</td>\n",
       "      <td>...</td>\n",
       "      <td>...</td>\n",
       "      <td>...</td>\n",
       "      <td>...</td>\n",
       "    </tr>\n",
       "    <tr>\n",
       "      <th>886</th>\n",
       "      <td>887</td>\n",
       "      <td>0</td>\n",
       "      <td>2</td>\n",
       "      <td>27.00000</td>\n",
       "      <td>0</td>\n",
       "      <td>0</td>\n",
       "      <td>13.0000</td>\n",
       "      <td>1</td>\n",
       "      <td>0</td>\n",
       "      <td>1</td>\n",
       "    </tr>\n",
       "    <tr>\n",
       "      <th>887</th>\n",
       "      <td>888</td>\n",
       "      <td>1</td>\n",
       "      <td>1</td>\n",
       "      <td>19.00000</td>\n",
       "      <td>0</td>\n",
       "      <td>0</td>\n",
       "      <td>30.0000</td>\n",
       "      <td>0</td>\n",
       "      <td>0</td>\n",
       "      <td>1</td>\n",
       "    </tr>\n",
       "    <tr>\n",
       "      <th>888</th>\n",
       "      <td>889</td>\n",
       "      <td>0</td>\n",
       "      <td>3</td>\n",
       "      <td>25.14062</td>\n",
       "      <td>1</td>\n",
       "      <td>2</td>\n",
       "      <td>23.4500</td>\n",
       "      <td>0</td>\n",
       "      <td>0</td>\n",
       "      <td>1</td>\n",
       "    </tr>\n",
       "    <tr>\n",
       "      <th>889</th>\n",
       "      <td>890</td>\n",
       "      <td>1</td>\n",
       "      <td>1</td>\n",
       "      <td>26.00000</td>\n",
       "      <td>0</td>\n",
       "      <td>0</td>\n",
       "      <td>30.0000</td>\n",
       "      <td>1</td>\n",
       "      <td>0</td>\n",
       "      <td>0</td>\n",
       "    </tr>\n",
       "    <tr>\n",
       "      <th>890</th>\n",
       "      <td>891</td>\n",
       "      <td>0</td>\n",
       "      <td>3</td>\n",
       "      <td>32.00000</td>\n",
       "      <td>0</td>\n",
       "      <td>0</td>\n",
       "      <td>7.7500</td>\n",
       "      <td>1</td>\n",
       "      <td>1</td>\n",
       "      <td>0</td>\n",
       "    </tr>\n",
       "  </tbody>\n",
       "</table>\n",
       "<p>889 rows × 10 columns</p>\n",
       "</div>"
      ],
      "text/plain": [
       "     PassengerId  Survived  Pclass       Age  SibSp  Parch     Fare  male  Q  \\\n",
       "0              1         0       3  22.00000      1      0   7.2500     1  0   \n",
       "1              2         1       1  38.00000      1      0  71.2833     0  0   \n",
       "2              3         1       3  26.00000      0      0   7.9250     0  0   \n",
       "3              4         1       1  35.00000      1      0  53.1000     0  0   \n",
       "4              5         0       3  35.00000      0      0   8.0500     1  0   \n",
       "..           ...       ...     ...       ...    ...    ...      ...   ... ..   \n",
       "886          887         0       2  27.00000      0      0  13.0000     1  0   \n",
       "887          888         1       1  19.00000      0      0  30.0000     0  0   \n",
       "888          889         0       3  25.14062      1      2  23.4500     0  0   \n",
       "889          890         1       1  26.00000      0      0  30.0000     1  0   \n",
       "890          891         0       3  32.00000      0      0   7.7500     1  1   \n",
       "\n",
       "     S  \n",
       "0    1  \n",
       "1    0  \n",
       "2    1  \n",
       "3    1  \n",
       "4    1  \n",
       "..  ..  \n",
       "886  1  \n",
       "887  1  \n",
       "888  1  \n",
       "889  0  \n",
       "890  0  \n",
       "\n",
       "[889 rows x 10 columns]"
      ]
     },
     "execution_count": 19,
     "metadata": {},
     "output_type": "execute_result"
    }
   ],
   "source": [
    "#9. CONVERTING CATEGORICAL FEATURES (SEX, EMBARK) TO DUMMY VARIABLES USING GET DUMMIES\n",
    "#we are using get_dummies because if not used, the categorical data can't be used as inputs by the model\n",
    "sex = pd.get_dummies(titanic_train['Sex'],drop_first=True)\n",
    "embark = pd.get_dummies(titanic_train['Embarked'],drop_first=True)\n",
    "titanic_train.drop(['Sex','Embarked','Name','Ticket'],axis=1,inplace=True)\n",
    "titanic_train=pd.concat([titanic_train,sex,embark],axis=1)\n",
    "titanic_train"
   ]
  },
  {
   "cell_type": "code",
   "execution_count": 20,
   "id": "a6304bf3",
   "metadata": {},
   "outputs": [],
   "source": [
    "#10. BUILDING A LOGISTIC REGRESSION MODEL (70:30 TRAIN:TEST SPLIT)\n",
    "#In the Logistic Regression model, we have an x variable and a y variable. The Y variable is Survived(binary).\n",
    "#And the X variable is everything apart from Survived, hence:"
   ]
  },
  {
   "cell_type": "code",
   "execution_count": 21,
   "id": "1c857625",
   "metadata": {},
   "outputs": [
    {
     "data": {
      "text/html": [
       "<div>\n",
       "<style scoped>\n",
       "    .dataframe tbody tr th:only-of-type {\n",
       "        vertical-align: middle;\n",
       "    }\n",
       "\n",
       "    .dataframe tbody tr th {\n",
       "        vertical-align: top;\n",
       "    }\n",
       "\n",
       "    .dataframe thead th {\n",
       "        text-align: right;\n",
       "    }\n",
       "</style>\n",
       "<table border=\"1\" class=\"dataframe\">\n",
       "  <thead>\n",
       "    <tr style=\"text-align: right;\">\n",
       "      <th></th>\n",
       "      <th>PassengerId</th>\n",
       "      <th>Pclass</th>\n",
       "      <th>Age</th>\n",
       "      <th>SibSp</th>\n",
       "      <th>Parch</th>\n",
       "      <th>Fare</th>\n",
       "      <th>male</th>\n",
       "      <th>Q</th>\n",
       "      <th>S</th>\n",
       "    </tr>\n",
       "  </thead>\n",
       "  <tbody>\n",
       "    <tr>\n",
       "      <th>0</th>\n",
       "      <td>1</td>\n",
       "      <td>3</td>\n",
       "      <td>22.00000</td>\n",
       "      <td>1</td>\n",
       "      <td>0</td>\n",
       "      <td>7.2500</td>\n",
       "      <td>1</td>\n",
       "      <td>0</td>\n",
       "      <td>1</td>\n",
       "    </tr>\n",
       "    <tr>\n",
       "      <th>1</th>\n",
       "      <td>2</td>\n",
       "      <td>1</td>\n",
       "      <td>38.00000</td>\n",
       "      <td>1</td>\n",
       "      <td>0</td>\n",
       "      <td>71.2833</td>\n",
       "      <td>0</td>\n",
       "      <td>0</td>\n",
       "      <td>0</td>\n",
       "    </tr>\n",
       "    <tr>\n",
       "      <th>2</th>\n",
       "      <td>3</td>\n",
       "      <td>3</td>\n",
       "      <td>26.00000</td>\n",
       "      <td>0</td>\n",
       "      <td>0</td>\n",
       "      <td>7.9250</td>\n",
       "      <td>0</td>\n",
       "      <td>0</td>\n",
       "      <td>1</td>\n",
       "    </tr>\n",
       "    <tr>\n",
       "      <th>3</th>\n",
       "      <td>4</td>\n",
       "      <td>1</td>\n",
       "      <td>35.00000</td>\n",
       "      <td>1</td>\n",
       "      <td>0</td>\n",
       "      <td>53.1000</td>\n",
       "      <td>0</td>\n",
       "      <td>0</td>\n",
       "      <td>1</td>\n",
       "    </tr>\n",
       "    <tr>\n",
       "      <th>4</th>\n",
       "      <td>5</td>\n",
       "      <td>3</td>\n",
       "      <td>35.00000</td>\n",
       "      <td>0</td>\n",
       "      <td>0</td>\n",
       "      <td>8.0500</td>\n",
       "      <td>1</td>\n",
       "      <td>0</td>\n",
       "      <td>1</td>\n",
       "    </tr>\n",
       "    <tr>\n",
       "      <th>...</th>\n",
       "      <td>...</td>\n",
       "      <td>...</td>\n",
       "      <td>...</td>\n",
       "      <td>...</td>\n",
       "      <td>...</td>\n",
       "      <td>...</td>\n",
       "      <td>...</td>\n",
       "      <td>...</td>\n",
       "      <td>...</td>\n",
       "    </tr>\n",
       "    <tr>\n",
       "      <th>886</th>\n",
       "      <td>887</td>\n",
       "      <td>2</td>\n",
       "      <td>27.00000</td>\n",
       "      <td>0</td>\n",
       "      <td>0</td>\n",
       "      <td>13.0000</td>\n",
       "      <td>1</td>\n",
       "      <td>0</td>\n",
       "      <td>1</td>\n",
       "    </tr>\n",
       "    <tr>\n",
       "      <th>887</th>\n",
       "      <td>888</td>\n",
       "      <td>1</td>\n",
       "      <td>19.00000</td>\n",
       "      <td>0</td>\n",
       "      <td>0</td>\n",
       "      <td>30.0000</td>\n",
       "      <td>0</td>\n",
       "      <td>0</td>\n",
       "      <td>1</td>\n",
       "    </tr>\n",
       "    <tr>\n",
       "      <th>888</th>\n",
       "      <td>889</td>\n",
       "      <td>3</td>\n",
       "      <td>25.14062</td>\n",
       "      <td>1</td>\n",
       "      <td>2</td>\n",
       "      <td>23.4500</td>\n",
       "      <td>0</td>\n",
       "      <td>0</td>\n",
       "      <td>1</td>\n",
       "    </tr>\n",
       "    <tr>\n",
       "      <th>889</th>\n",
       "      <td>890</td>\n",
       "      <td>1</td>\n",
       "      <td>26.00000</td>\n",
       "      <td>0</td>\n",
       "      <td>0</td>\n",
       "      <td>30.0000</td>\n",
       "      <td>1</td>\n",
       "      <td>0</td>\n",
       "      <td>0</td>\n",
       "    </tr>\n",
       "    <tr>\n",
       "      <th>890</th>\n",
       "      <td>891</td>\n",
       "      <td>3</td>\n",
       "      <td>32.00000</td>\n",
       "      <td>0</td>\n",
       "      <td>0</td>\n",
       "      <td>7.7500</td>\n",
       "      <td>1</td>\n",
       "      <td>1</td>\n",
       "      <td>0</td>\n",
       "    </tr>\n",
       "  </tbody>\n",
       "</table>\n",
       "<p>889 rows × 9 columns</p>\n",
       "</div>"
      ],
      "text/plain": [
       "     PassengerId  Pclass       Age  SibSp  Parch     Fare  male  Q  S\n",
       "0              1       3  22.00000      1      0   7.2500     1  0  1\n",
       "1              2       1  38.00000      1      0  71.2833     0  0  0\n",
       "2              3       3  26.00000      0      0   7.9250     0  0  1\n",
       "3              4       1  35.00000      1      0  53.1000     0  0  1\n",
       "4              5       3  35.00000      0      0   8.0500     1  0  1\n",
       "..           ...     ...       ...    ...    ...      ...   ... .. ..\n",
       "886          887       2  27.00000      0      0  13.0000     1  0  1\n",
       "887          888       1  19.00000      0      0  30.0000     0  0  1\n",
       "888          889       3  25.14062      1      2  23.4500     0  0  1\n",
       "889          890       1  26.00000      0      0  30.0000     1  0  0\n",
       "890          891       3  32.00000      0      0   7.7500     1  1  0\n",
       "\n",
       "[889 rows x 9 columns]"
      ]
     },
     "execution_count": 21,
     "metadata": {},
     "output_type": "execute_result"
    }
   ],
   "source": [
    "#X Array:\n",
    "titanic_train.drop('Survived',axis=1)"
   ]
  },
  {
   "cell_type": "code",
   "execution_count": 22,
   "id": "e34d2560",
   "metadata": {},
   "outputs": [
    {
     "data": {
      "text/plain": [
       "0      0\n",
       "1      1\n",
       "2      1\n",
       "3      1\n",
       "4      0\n",
       "      ..\n",
       "886    0\n",
       "887    1\n",
       "888    0\n",
       "889    1\n",
       "890    0\n",
       "Name: Survived, Length: 889, dtype: int64"
      ]
     },
     "execution_count": 22,
     "metadata": {},
     "output_type": "execute_result"
    }
   ],
   "source": [
    "#And the Y variable is\n",
    "titanic_train['Survived']"
   ]
  },
  {
   "cell_type": "code",
   "execution_count": 23,
   "id": "87151dae",
   "metadata": {},
   "outputs": [],
   "source": [
    "#Applying Logistic Regression with a 70:30 split:\n",
    "X_train, X_test, y_train, y_test = train_test_split(titanic_train.drop('Survived',axis=1),\n",
    "                                                    titanic_train['Survived'], train_size=0.70)\n"
   ]
  },
  {
   "cell_type": "code",
   "execution_count": 24,
   "id": "54b8e80d",
   "metadata": {},
   "outputs": [],
   "source": [
    "logreg=LogisticRegression(solver='lbfgs',max_iter=900)"
   ]
  },
  {
   "cell_type": "code",
   "execution_count": 25,
   "id": "4d67206d",
   "metadata": {},
   "outputs": [
    {
     "data": {
      "text/plain": [
       "LogisticRegression(max_iter=900)"
      ]
     },
     "execution_count": 25,
     "metadata": {},
     "output_type": "execute_result"
    }
   ],
   "source": [
    "logreg.fit(X_train, y_train)"
   ]
  },
  {
   "cell_type": "code",
   "execution_count": 26,
   "id": "49798620",
   "metadata": {},
   "outputs": [
    {
     "data": {
      "text/plain": [
       "array([1, 1, 1, 0, 0, 0, 1, 0, 0, 0, 1, 1, 0, 0, 1, 0, 1, 1, 0, 0, 1, 0,\n",
       "       0, 0, 1, 0, 1, 0, 0, 1, 0, 1, 1, 1, 0, 0, 1, 1, 0, 0, 1, 0, 0, 0,\n",
       "       1, 0, 0, 0, 1, 0, 0, 0, 1, 0, 0, 0, 0, 0, 0, 0, 1, 0, 0, 0, 0, 0,\n",
       "       0, 0, 0, 0, 1, 0, 1, 0, 1, 1, 0, 0, 0, 1, 0, 1, 0, 1, 0, 0, 0, 1,\n",
       "       1, 0, 0, 1, 0, 0, 0, 0, 0, 1, 0, 0, 1, 0, 0, 1, 1, 0, 0, 0, 0, 0,\n",
       "       1, 0, 0, 1, 0, 1, 0, 0, 0, 1, 0, 0, 1, 0, 1, 0, 0, 0, 0, 1, 0, 1,\n",
       "       0, 0, 0, 0, 0, 1, 0, 0, 0, 1, 1, 0, 1, 1, 1, 0, 1, 0, 0, 0, 1, 0,\n",
       "       0, 1, 0, 1, 0, 0, 1, 0, 0, 1, 0, 0, 1, 1, 0, 1, 1, 1, 0, 0, 0, 1,\n",
       "       1, 1, 1, 0, 0, 1, 0, 0, 0, 0, 1, 1, 1, 0, 0, 0, 0, 0, 0, 1, 0, 0,\n",
       "       0, 0, 1, 1, 0, 0, 0, 1, 0, 1, 0, 1, 0, 0, 1, 1, 0, 0, 1, 0, 1, 0,\n",
       "       0, 0, 0, 0, 0, 1, 0, 1, 0, 1, 0, 0, 0, 1, 0, 0, 0, 0, 0, 0, 0, 0,\n",
       "       0, 0, 0, 1, 0, 0, 1, 0, 0, 0, 1, 0, 0, 1, 1, 0, 0, 0, 0, 0, 0, 1,\n",
       "       1, 1, 0], dtype=int64)"
      ]
     },
     "execution_count": 26,
     "metadata": {},
     "output_type": "execute_result"
    }
   ],
   "source": [
    "yhat=logreg.predict(X_test)\n",
    "yhat"
   ]
  },
  {
   "cell_type": "code",
   "execution_count": 27,
   "id": "99bc1a41",
   "metadata": {},
   "outputs": [],
   "source": [
    "#logreg.predict_proba(X_test)"
   ]
  },
  {
   "cell_type": "code",
   "execution_count": 28,
   "id": "90b454cf",
   "metadata": {},
   "outputs": [
    {
     "data": {
      "text/plain": [
       "LogisticRegression(max_iter=900)"
      ]
     },
     "execution_count": 28,
     "metadata": {},
     "output_type": "execute_result"
    }
   ],
   "source": [
    "logreg.fit(X_train, y_train)"
   ]
  },
  {
   "cell_type": "code",
   "execution_count": 29,
   "id": "22ea4327",
   "metadata": {},
   "outputs": [],
   "source": [
    "#11. PREDICTION AND EVALUATION OF THE MODEL"
   ]
  },
  {
   "cell_type": "code",
   "execution_count": 30,
   "id": "c5821703",
   "metadata": {},
   "outputs": [
    {
     "data": {
      "text/plain": [
       "array([[-1.26073506e-04, -9.99828077e-01, -4.27930879e-02,\n",
       "        -3.64167845e-01, -1.13297197e-02,  3.88964895e-03,\n",
       "        -2.53526238e+00, -1.07745248e-01, -2.63751085e-01]])"
      ]
     },
     "execution_count": 30,
     "metadata": {},
     "output_type": "execute_result"
    }
   ],
   "source": [
    "logreg.coef_\n",
    "#pd.DataFrame(logreg.coef_) #to see the same array in a DF format"
   ]
  },
  {
   "cell_type": "code",
   "execution_count": 31,
   "id": "f52a0858",
   "metadata": {},
   "outputs": [
    {
     "data": {
      "text/html": [
       "<div>\n",
       "<style scoped>\n",
       "    .dataframe tbody tr th:only-of-type {\n",
       "        vertical-align: middle;\n",
       "    }\n",
       "\n",
       "    .dataframe tbody tr th {\n",
       "        vertical-align: top;\n",
       "    }\n",
       "\n",
       "    .dataframe thead th {\n",
       "        text-align: right;\n",
       "    }\n",
       "</style>\n",
       "<table border=\"1\" class=\"dataframe\">\n",
       "  <thead>\n",
       "    <tr style=\"text-align: right;\">\n",
       "      <th></th>\n",
       "      <th>PassengerId</th>\n",
       "      <th>Pclass</th>\n",
       "      <th>Age</th>\n",
       "      <th>SibSp</th>\n",
       "      <th>Parch</th>\n",
       "      <th>Fare</th>\n",
       "      <th>male</th>\n",
       "      <th>Q</th>\n",
       "      <th>S</th>\n",
       "    </tr>\n",
       "  </thead>\n",
       "  <tbody>\n",
       "    <tr>\n",
       "      <th>452</th>\n",
       "      <td>453</td>\n",
       "      <td>1</td>\n",
       "      <td>30.00000</td>\n",
       "      <td>0</td>\n",
       "      <td>0</td>\n",
       "      <td>27.7500</td>\n",
       "      <td>1</td>\n",
       "      <td>0</td>\n",
       "      <td>0</td>\n",
       "    </tr>\n",
       "    <tr>\n",
       "      <th>416</th>\n",
       "      <td>417</td>\n",
       "      <td>2</td>\n",
       "      <td>34.00000</td>\n",
       "      <td>1</td>\n",
       "      <td>1</td>\n",
       "      <td>32.5000</td>\n",
       "      <td>0</td>\n",
       "      <td>0</td>\n",
       "      <td>1</td>\n",
       "    </tr>\n",
       "    <tr>\n",
       "      <th>443</th>\n",
       "      <td>444</td>\n",
       "      <td>2</td>\n",
       "      <td>28.00000</td>\n",
       "      <td>0</td>\n",
       "      <td>0</td>\n",
       "      <td>13.0000</td>\n",
       "      <td>0</td>\n",
       "      <td>0</td>\n",
       "      <td>1</td>\n",
       "    </tr>\n",
       "    <tr>\n",
       "      <th>626</th>\n",
       "      <td>627</td>\n",
       "      <td>2</td>\n",
       "      <td>57.00000</td>\n",
       "      <td>0</td>\n",
       "      <td>0</td>\n",
       "      <td>12.3500</td>\n",
       "      <td>1</td>\n",
       "      <td>1</td>\n",
       "      <td>0</td>\n",
       "    </tr>\n",
       "    <tr>\n",
       "      <th>249</th>\n",
       "      <td>250</td>\n",
       "      <td>2</td>\n",
       "      <td>54.00000</td>\n",
       "      <td>1</td>\n",
       "      <td>0</td>\n",
       "      <td>26.0000</td>\n",
       "      <td>1</td>\n",
       "      <td>0</td>\n",
       "      <td>1</td>\n",
       "    </tr>\n",
       "    <tr>\n",
       "      <th>...</th>\n",
       "      <td>...</td>\n",
       "      <td>...</td>\n",
       "      <td>...</td>\n",
       "      <td>...</td>\n",
       "      <td>...</td>\n",
       "      <td>...</td>\n",
       "      <td>...</td>\n",
       "      <td>...</td>\n",
       "      <td>...</td>\n",
       "    </tr>\n",
       "    <tr>\n",
       "      <th>828</th>\n",
       "      <td>829</td>\n",
       "      <td>3</td>\n",
       "      <td>25.14062</td>\n",
       "      <td>0</td>\n",
       "      <td>0</td>\n",
       "      <td>7.7500</td>\n",
       "      <td>1</td>\n",
       "      <td>1</td>\n",
       "      <td>0</td>\n",
       "    </tr>\n",
       "    <tr>\n",
       "      <th>19</th>\n",
       "      <td>20</td>\n",
       "      <td>3</td>\n",
       "      <td>25.14062</td>\n",
       "      <td>0</td>\n",
       "      <td>0</td>\n",
       "      <td>7.2250</td>\n",
       "      <td>0</td>\n",
       "      <td>0</td>\n",
       "      <td>0</td>\n",
       "    </tr>\n",
       "    <tr>\n",
       "      <th>312</th>\n",
       "      <td>313</td>\n",
       "      <td>2</td>\n",
       "      <td>26.00000</td>\n",
       "      <td>1</td>\n",
       "      <td>1</td>\n",
       "      <td>26.0000</td>\n",
       "      <td>0</td>\n",
       "      <td>0</td>\n",
       "      <td>1</td>\n",
       "    </tr>\n",
       "    <tr>\n",
       "      <th>469</th>\n",
       "      <td>470</td>\n",
       "      <td>3</td>\n",
       "      <td>0.75000</td>\n",
       "      <td>2</td>\n",
       "      <td>1</td>\n",
       "      <td>19.2583</td>\n",
       "      <td>0</td>\n",
       "      <td>0</td>\n",
       "      <td>0</td>\n",
       "    </tr>\n",
       "    <tr>\n",
       "      <th>480</th>\n",
       "      <td>481</td>\n",
       "      <td>3</td>\n",
       "      <td>9.00000</td>\n",
       "      <td>5</td>\n",
       "      <td>2</td>\n",
       "      <td>46.9000</td>\n",
       "      <td>1</td>\n",
       "      <td>0</td>\n",
       "      <td>1</td>\n",
       "    </tr>\n",
       "  </tbody>\n",
       "</table>\n",
       "<p>267 rows × 9 columns</p>\n",
       "</div>"
      ],
      "text/plain": [
       "     PassengerId  Pclass       Age  SibSp  Parch     Fare  male  Q  S\n",
       "452          453       1  30.00000      0      0  27.7500     1  0  0\n",
       "416          417       2  34.00000      1      1  32.5000     0  0  1\n",
       "443          444       2  28.00000      0      0  13.0000     0  0  1\n",
       "626          627       2  57.00000      0      0  12.3500     1  1  0\n",
       "249          250       2  54.00000      1      0  26.0000     1  0  1\n",
       "..           ...     ...       ...    ...    ...      ...   ... .. ..\n",
       "828          829       3  25.14062      0      0   7.7500     1  1  0\n",
       "19            20       3  25.14062      0      0   7.2250     0  0  0\n",
       "312          313       2  26.00000      1      1  26.0000     0  0  1\n",
       "469          470       3   0.75000      2      1  19.2583     0  0  0\n",
       "480          481       3   9.00000      5      2  46.9000     1  0  1\n",
       "\n",
       "[267 rows x 9 columns]"
      ]
     },
     "execution_count": 31,
     "metadata": {},
     "output_type": "execute_result"
    }
   ],
   "source": [
    "predictions = logreg.predict(X_test)\n",
    "predictions\n",
    "X_test #predicted values"
   ]
  },
  {
   "cell_type": "code",
   "execution_count": 32,
   "id": "d95e995f",
   "metadata": {},
   "outputs": [
    {
     "data": {
      "text/plain": [
       "array([[149,  25],\n",
       "       [ 26,  67]], dtype=int64)"
      ]
     },
     "execution_count": 32,
     "metadata": {},
     "output_type": "execute_result"
    }
   ],
   "source": [
    "#11.1 - Confusion Matrix\n",
    "confusion_matrix=confusion_matrix(y_test,yhat)\n",
    "confusion_matrix"
   ]
  },
  {
   "cell_type": "code",
   "execution_count": 33,
   "id": "8d7822e8",
   "metadata": {
    "scrolled": true
   },
   "outputs": [
    {
     "name": "stdout",
     "output_type": "stream",
     "text": [
      "              precision    recall  f1-score   support\n",
      "\n",
      "           0       0.85      0.86      0.85       174\n",
      "           1       0.73      0.72      0.72        93\n",
      "\n",
      "    accuracy                           0.81       267\n",
      "   macro avg       0.79      0.79      0.79       267\n",
      "weighted avg       0.81      0.81      0.81       267\n",
      "\n"
     ]
    }
   ],
   "source": [
    "#11.2 - Classification Report\n",
    "print(classification_report(y_test,yhat))"
   ]
  },
  {
   "cell_type": "code",
   "execution_count": 34,
   "id": "5fc40570",
   "metadata": {},
   "outputs": [
    {
     "data": {
      "text/plain": [
       "0.8089887640449438"
      ]
     },
     "execution_count": 34,
     "metadata": {},
     "output_type": "execute_result"
    }
   ],
   "source": [
    "#11.3 - Accuracy Score\n",
    "accuracy_score(y_test, yhat)"
   ]
  },
  {
   "cell_type": "code",
   "execution_count": 35,
   "id": "d4f2f4cc",
   "metadata": {},
   "outputs": [],
   "source": [
    "titanic_train2=pd.read_csv('titanic_train.csv')"
   ]
  },
  {
   "cell_type": "code",
   "execution_count": 36,
   "id": "205a768e",
   "metadata": {},
   "outputs": [
    {
     "name": "stdout",
     "output_type": "stream",
     "text": [
      "The number of people with a cabin in deck A =  15\n",
      "The number of people with a cabin in deck B =  47\n",
      "The number of people with a cabin in deck C =  59\n",
      "The number of people with a cabin in deck D =  33\n",
      "The number of people with a cabin in deck E =  32\n",
      "The number of people with a cabin in deck F =  13\n",
      "The number of people with a cabin in deck G =  4\n"
     ]
    }
   ],
   "source": [
    "#The letter in cabin shows us the deck at which the passenger stayed. There were a total of 7 decks on the Titanic (A-G). The number of passengers on each deck is given below\n",
    "titanic_train2.dropna(axis=0,subset=['Cabin'],inplace=True)\n",
    "titanic_train2['Cabin']\n",
    "cabin_count=[]\n",
    "for i in titanic_train2['Cabin']:\n",
    "    cabin_count.append(i[0])\n",
    "print(\"The number of people with a cabin in deck A = \",cabin_count.count('A'))\n",
    "print(\"The number of people with a cabin in deck B = \",cabin_count.count('B'))\n",
    "print(\"The number of people with a cabin in deck C = \",cabin_count.count('C'))\n",
    "print(\"The number of people with a cabin in deck D = \",cabin_count.count('D'))\n",
    "print(\"The number of people with a cabin in deck E = \",cabin_count.count('E'))\n",
    "print(\"The number of people with a cabin in deck F = \",cabin_count.count('F'))\n",
    "print(\"The number of people with a cabin in deck G = \",cabin_count.count('G'))"
   ]
  },
  {
   "cell_type": "code",
   "execution_count": 37,
   "id": "3b5f144e",
   "metadata": {},
   "outputs": [
    {
     "data": {
      "text/plain": [
       "Mr          517\n",
       "Miss        182\n",
       "Mrs         125\n",
       "Master       40\n",
       "Dr            7\n",
       "Rev           6\n",
       "Mlle          2\n",
       "Col           2\n",
       "Major         2\n",
       "Jonkheer      1\n",
       "Capt          1\n",
       "Lady          1\n",
       "Mme           1\n",
       "Sir           1\n",
       "Don           1\n",
       "Countess      1\n",
       "Ms            1\n",
       "Name: Title, dtype: int64"
      ]
     },
     "execution_count": 37,
     "metadata": {},
     "output_type": "execute_result"
    }
   ],
   "source": [
    "titanic_train3=pd.read_csv('titanic_train.csv')\n",
    "#Extracting the title out of a passenger's name\n",
    "titanic_train3['Title'] = titanic_train3['Name'].str.extract(' ([A-Za-z]+)\\.')\n",
    "titanic_train3['Title'].value_counts()"
   ]
  },
  {
   "cell_type": "code",
   "execution_count": 38,
   "id": "14ce9b02",
   "metadata": {},
   "outputs": [
    {
     "data": {
      "text/plain": [
       "Title\n",
       "Capt        0.000000\n",
       "Col         0.500000\n",
       "Countess    1.000000\n",
       "Don         0.000000\n",
       "Dr          0.428571\n",
       "Jonkheer    0.000000\n",
       "Lady        1.000000\n",
       "Major       0.500000\n",
       "Master      0.575000\n",
       "Miss        0.697802\n",
       "Mlle        1.000000\n",
       "Mme         1.000000\n",
       "Mr          0.156673\n",
       "Mrs         0.792000\n",
       "Ms          1.000000\n",
       "Rev         0.000000\n",
       "Sir         1.000000\n",
       "Name: Survived, dtype: float64"
      ]
     },
     "execution_count": 38,
     "metadata": {},
     "output_type": "execute_result"
    }
   ],
   "source": [
    "titanic_train3.groupby(['Title'])['Survived'].mean()"
   ]
  },
  {
   "cell_type": "code",
   "execution_count": 39,
   "id": "824f5c77",
   "metadata": {},
   "outputs": [
    {
     "data": {
      "text/plain": [
       "Text(0, 0.5, 'Probabilities')"
      ]
     },
     "execution_count": 39,
     "metadata": {},
     "output_type": "execute_result"
    },
    {
     "data": {
      "image/png": "[encoded data removed]",
      "text/plain": [
       "<Figure size 1080x360 with 1 Axes>"
      ]
     },
     "metadata": {},
     "output_type": "display_data"
    }
   ],
   "source": [
    "p_title=titanic_train3['Title'].unique()\n",
    "p_title.sort()\n",
    "title_sr=titanic_train3.groupby(['Title'])['Survived'].mean()\n",
    "plt.figure(figsize=(15,5))\n",
    "plt.bar(p_title,title_sr,color='red',edgecolor='k')\n",
    "plt.title('Average Survival Rate by Title')\n",
    "plt.xlabel('Titles')\n",
    "plt.ylabel('Probabilities')"
   ]
  },
  {
   "cell_type": "code",
   "execution_count": 40,
   "id": "5cbd098e",
   "metadata": {},
   "outputs": [],
   "source": [
    "#Predicting the survival rate based on a passenger's ticket"
   ]
  },
  {
   "cell_type": "code",
   "execution_count": 41,
   "id": "48465dbd",
   "metadata": {},
   "outputs": [],
   "source": [
    "titanic_train4=pd.read_csv('titanic_train.csv')"
   ]
  },
  {
   "cell_type": "code",
   "execution_count": 42,
   "id": "777d4ca1",
   "metadata": {},
   "outputs": [],
   "source": [
    "titanic_train4['Ticket_Len'] = titanic_train4['Ticket'].apply(lambda x: len(x))"
   ]
  },
  {
   "cell_type": "code",
   "execution_count": 43,
   "id": "013fd252",
   "metadata": {},
   "outputs": [
    {
     "data": {
      "text/plain": [
       "Ticket_Len\n",
       "3     0.000000\n",
       "4     0.366337\n",
       "5     0.618321\n",
       "6     0.319809\n",
       "7     0.296296\n",
       "8     0.539474\n",
       "9     0.192308\n",
       "10    0.341463\n",
       "11    0.250000\n",
       "12    0.400000\n",
       "13    0.400000\n",
       "15    0.333333\n",
       "16    0.272727\n",
       "17    0.428571\n",
       "18    0.000000\n",
       "Name: Survived, dtype: float64"
      ]
     },
     "execution_count": 43,
     "metadata": {},
     "output_type": "execute_result"
    }
   ],
   "source": [
    "titanic_train4.groupby(['Ticket_Len'])['Survived'].mean()"
   ]
  },
  {
   "cell_type": "code",
   "execution_count": 44,
   "id": "7ea49195",
   "metadata": {},
   "outputs": [
    {
     "data": {
      "text/plain": [
       "6     419\n",
       "5     131\n",
       "4     101\n",
       "8      76\n",
       "10     41\n",
       "7      27\n",
       "9      26\n",
       "17     14\n",
       "16     11\n",
       "12     10\n",
       "13     10\n",
       "15      9\n",
       "11      8\n",
       "18      6\n",
       "3       2\n",
       "Name: Ticket_Len, dtype: int64"
      ]
     },
     "execution_count": 44,
     "metadata": {},
     "output_type": "execute_result"
    }
   ],
   "source": [
    "titanic_train4['Ticket_Len'].value_counts()"
   ]
  },
  {
   "cell_type": "code",
   "execution_count": 45,
   "id": "34ac6da0",
   "metadata": {},
   "outputs": [
    {
     "data": {
      "text/plain": [
       "Text(0.5, 1.0, 'Survivability of Passengers based on length of ticket')"
      ]
     },
     "execution_count": 45,
     "metadata": {},
     "output_type": "execute_result"
    },
    {
     "data": {
      "image/png": "[encoded data removed]",
      "text/plain": [
       "<Figure size 432x288 with 1 Axes>"
      ]
     },
     "metadata": {},
     "output_type": "display_data"
    }
   ],
   "source": [
    "abc=titanic_train4['Ticket_Len'].unique()\n",
    "xyz=titanic_train4.groupby(['Ticket_Len'])['Survived'].mean()\n",
    "plt.bar(abc,xyz,edgecolor='k',color='gold')\n",
    "plt.xlabel('Length of Ticket')\n",
    "plt.ylabel('Chance of survival')\n",
    "plt.title('Survivability of Passengers based on length of ticket')"
   ]
  },
  {
   "cell_type": "code",
   "execution_count": 46,
   "id": "24dcf1bb",
   "metadata": {},
   "outputs": [],
   "source": [
    "titanic_train4['ticket_letter'] = titanic_train4['Ticket'].apply(lambda x: str(x)[0])"
   ]
  },
  {
   "cell_type": "code",
   "execution_count": 47,
   "id": "34900a85",
   "metadata": {},
   "outputs": [
    {
     "data": {
      "text/plain": [
       "ticket_letter\n",
       "1    146\n",
       "2    183\n",
       "3    301\n",
       "4     10\n",
       "5      3\n",
       "6      6\n",
       "7      9\n",
       "8      2\n",
       "9      1\n",
       "A     29\n",
       "C     47\n",
       "F      7\n",
       "L      4\n",
       "P     65\n",
       "S     65\n",
       "W     13\n",
       "Name: Survived, dtype: int64"
      ]
     },
     "execution_count": 47,
     "metadata": {},
     "output_type": "execute_result"
    }
   ],
   "source": [
    "titanic_train4.groupby(['ticket_letter'])['Survived'].count()"
   ]
  },
  {
   "cell_type": "code",
   "execution_count": 48,
   "id": "f4b2309a",
   "metadata": {},
   "outputs": [
    {
     "data": {
      "text/plain": [
       "ticket_letter\n",
       "1    0.630137\n",
       "2    0.464481\n",
       "3    0.239203\n",
       "4    0.200000\n",
       "5    0.000000\n",
       "6    0.166667\n",
       "7    0.111111\n",
       "8    0.000000\n",
       "9    1.000000\n",
       "A    0.068966\n",
       "C    0.340426\n",
       "F    0.571429\n",
       "L    0.250000\n",
       "P    0.646154\n",
       "S    0.323077\n",
       "W    0.153846\n",
       "Name: Survived, dtype: float64"
      ]
     },
     "execution_count": 48,
     "metadata": {},
     "output_type": "execute_result"
    }
   ],
   "source": [
    "titanic_train4.groupby(['ticket_letter'])['Survived'].mean()"
   ]
  },
  {
   "cell_type": "code",
   "execution_count": 49,
   "id": "cc24307b",
   "metadata": {},
   "outputs": [
    {
     "data": {
      "text/plain": [
       "Text(0.5, 1.0, 'Survivability of Passengers based on ticket first character')"
      ]
     },
     "execution_count": 49,
     "metadata": {},
     "output_type": "execute_result"
    },
    {
     "data": {
      "image/png": "[encoded data removed]",
      "text/plain": [
       "<Figure size 432x288 with 1 Axes>"
      ]
     },
     "metadata": {},
     "output_type": "display_data"
    }
   ],
   "source": [
    "a=titanic_train4['ticket_letter'].unique()\n",
    "a.sort()\n",
    "b=titanic_train4.groupby(['ticket_letter'])['Survived'].mean()\n",
    "plt.bar(a,b,color='orange',edgecolor='k')\n",
    "plt.xlabel('First character of Ticket')\n",
    "plt.ylabel('Chance of survival')\n",
    "plt.title('Survivability of Passengers based on ticket first character')"
   ]
  },
  {
   "cell_type": "code",
   "execution_count": 50,
   "id": "6749ed9e",
   "metadata": {},
   "outputs": [],
   "source": [
    "#                                                         The End"
   ]
  }
 ],
 "metadata": {
  "kernelspec": {
   "display_name": "Python 3",
   "language": "python",
   "name": "python3"
  },
  "language_info": {
   "codemirror_mode": {
    "name": "ipython",
    "version": 3
   },
   "file_extension": ".py",
   "mimetype": "text/x-python",
   "name": "python",
   "nbconvert_exporter": "python",
   "pygments_lexer": "ipython3",
   "version": "3.8.8"
  }
 },
 "nbformat": 4,
 "nbformat_minor": 5
}
